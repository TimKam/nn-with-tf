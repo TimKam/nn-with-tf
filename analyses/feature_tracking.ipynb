{
 "cells": [
  {
   "cell_type": "markdown",
   "metadata": {
    "collapsed": true
   },
   "source": [
    "# Feature tracking\n",
    "\n",
    "1) The approximation considering the Taylor series expansion is:\n",
    "\n",
    "$$J(x + d) \\approx J(x) + dJ'(x)$$\n",
    "\n",
    "Consequently, we have:\n",
    "\n",
    "$$ E = \\sum_{x}[J(x+d)-I(x)]^2$$\n",
    "\n",
    "The gradient with respect to d is:\n",
    "\n",
    "$$\\dfrac{\\partial}{\\partial d} \\sum_{x}[J(x)+dJ(x)-I(x)]^2$$\n",
    "\n",
    "$$=$$\n",
    "\n",
    "$$ \\sum_{x}2J'(x)[J(x)+dJ'(x)-I(x)]$$\n",
    "\n",
    "\n",
    "\n",
    "\n",
    "\n",
    "\n",
    "\n",
    "\n",
    "\n"
   ]
  },
  {
   "cell_type": "markdown",
   "metadata": {},
   "source": [
    "2) $$0 = \\dfrac{\\partial}{\\partial d} \\sum_{x}[J(x)+dJ(x)-I(x)]^2$$\n",
    "Consequently:\n",
    "$$d = \\dfrac{\\sum_{x}J'(x)[I(x)-J(x)]}{\\sum_{x}J'(x)^2}$$"
   ]
  },
  {
   "cell_type": "markdown",
   "metadata": {},
   "source": [
    "and:\n",
    "$$\\sum_{x}J'(x)^2 d= \\sum_{x}J'(x)[I(x)-J(x)]$$\n",
    "\n",
    "Z is:\n",
    "$$\\sum_{x}J'(x)^2$$\n",
    "\n",
    "e is:\n",
    "$$\\sum_{x}J'(x)[I(x)-J(x)]$$\n",
    "\n",
    "\n",
    "\n",
    "Z must not be 0. This is only the case if F'(x) = 0 for all x."
   ]
  },
  {
   "cell_type": "markdown",
   "metadata": {},
   "source": [
    "3) Again, the approximation of the Taylor series expansion is:\n",
    "$$ E = \\sum_{x}[J(x+d)-I(x)]^2$$\n",
    "Then template and image are switched, assuming that the current estimates of the parameters are approximately correct.\n",
    "This allows defining \n",
    "\n",
    "4) The advantage of the inverse schema is that the Hessian matrix can be pre-computed. Hence, the inverse scheme is more performant. The disadvantage is that the algorithm is more complex and that it is applicable to only a small set of warps."
   ]
  },
  {
   "cell_type": "markdown",
   "metadata": {},
   "source": []
  },
  {
   "cell_type": "code",
   "execution_count": null,
   "metadata": {},
   "outputs": [],
   "source": []
  }
 ],
 "metadata": {
  "kernelspec": {
   "display_name": "Python 2",
   "language": "python",
   "name": "python2"
  },
  "language_info": {
   "codemirror_mode": {
    "name": "ipython",
    "version": 3
   },
   "file_extension": ".py",
   "mimetype": "text/x-python",
   "name": "python",
   "nbconvert_exporter": "python",
   "pygments_lexer": "ipython3",
   "version": "3.6.4"
  }
 },
 "nbformat": 4,
 "nbformat_minor": 1
}
